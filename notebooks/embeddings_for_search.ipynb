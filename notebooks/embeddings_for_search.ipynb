{
 "cells": [
  {
   "cell_type": "markdown",
   "id": "12fcee0f",
   "metadata": {},
   "source": [
    "## Set-Up"
   ]
  },
  {
   "cell_type": "code",
   "execution_count": 53,
   "id": "e9fe6f78",
   "metadata": {},
   "outputs": [],
   "source": [
    "import os\n",
    "import pinecone\n",
    "import pandas as pd\n",
    "import openai\n",
    "import warnings\n",
    "\n",
    "from bs4 import BeautifulSoup\n",
    "from tqdm.autonotebook import tqdm\n",
    "from dotenv import find_dotenv, load_dotenv\n",
    "\n",
    "warnings.filterwarnings('ignore')"
   ]
  },
  {
   "cell_type": "code",
   "execution_count": 54,
   "id": "d91f60d0",
   "metadata": {},
   "outputs": [],
   "source": [
    "EMBEDDING_MODEL = 'text-embedding-ada-002'\n",
    "COMPLETION_MODEL = 'gpt-3.5-turbo'"
   ]
  },
  {
   "cell_type": "markdown",
   "id": "990922cd",
   "metadata": {},
   "source": [
    "## Source the Data "
   ]
  },
  {
   "cell_type": "code",
   "execution_count": 55,
   "id": "8e560d05",
   "metadata": {
    "scrolled": true
   },
   "outputs": [],
   "source": [
    "def load_data(fp):\n",
    "    \n",
    "    files = os.listdir(fp)\n",
    "    pages = [(fp + '/'+ file) for file in files if '.html' in file]\n",
    "    return pages\n",
    "\n",
    "backend_path = '../data/backend_html'\n",
    "frontend_path = '../data/frontend_html'\n",
    "\n",
    "all_pages = load_data(backend_path) + load_data(frontend_path)"
   ]
  },
  {
   "cell_type": "markdown",
   "id": "63c46da4",
   "metadata": {},
   "source": [
    "## Scrape Information "
   ]
  },
  {
   "cell_type": "code",
   "execution_count": 56,
   "id": "9ace6807",
   "metadata": {},
   "outputs": [],
   "source": [
    "text = []\n",
    "source = {}\n",
    "\n",
    "for page in all_pages:\n",
    "    with open(page) as s:\n",
    "        soup = BeautifulSoup(s, 'html.parser')\n",
    "        \n",
    "    ps = soup.find_all('p')\n",
    "    for p in ps:\n",
    "        \n",
    "        text.append(p.text)\n",
    "        \n",
    "        marker = page.index('_html/') + 6\n",
    "        source[p.text] = page[marker:]"
   ]
  },
  {
   "cell_type": "markdown",
   "id": "00fd2ddd",
   "metadata": {},
   "source": [
    "## Create Embeddings & Index"
   ]
  },
  {
   "cell_type": "code",
   "execution_count": 57,
   "id": "8087a11e",
   "metadata": {
    "scrolled": false
   },
   "outputs": [],
   "source": [
    "load_dotenv(find_dotenv())\n",
    "\n",
    "openai.api_key = os.environ.get('OPENAI_API_KEY')\n",
    "pinecone.init(api_key = os.environ.get('PINECONE_API_KEY'), environment = os.environ.get('PINECONE_ENV'))\n",
    "\n",
    "index_name = 'quads'\n",
    "if index_name in pinecone.list_indexes():\n",
    "    pinecone.delete_index(index_name)\n",
    "    \n",
    "pinecone.create_index(index_name, dimension=1536)\n",
    "index = pinecone.Index(index_name)"
   ]
  },
  {
   "cell_type": "code",
   "execution_count": 58,
   "id": "924e752e",
   "metadata": {},
   "outputs": [
    {
     "data": {
      "application/vnd.jupyter.widget-view+json": {
       "model_id": "42a7376bd3ae49f5b97359f75dab9292",
       "version_major": 2,
       "version_minor": 0
      },
      "text/plain": [
       "  0%|          | 0/38 [00:00<?, ?it/s]"
      ]
     },
     "metadata": {},
     "output_type": "display_data"
    }
   ],
   "source": [
    "count = 0\n",
    "batch_size = 32\n",
    "\n",
    "for i in tqdm(range(0, len(text), batch_size)):\n",
    "    \n",
    "    # set end position of batch\n",
    "    i_end = min(i+batch_size, len(text))\n",
    "    \n",
    "    # get batch of lines and IDs\n",
    "    lines_batch = text[i: i+batch_size]\n",
    "    ids_batch = [str(n) for n in range(i, i_end)]\n",
    "    \n",
    "    # create embeddings\n",
    "    res = openai.Embedding.create(input=lines_batch, engine=EMBEDDING_MODEL)\n",
    "    embeds = [record['embedding'] for record in res['data']]\n",
    "    \n",
    "    # prep metadata and upsert batch\n",
    "    meta = [{'text': line} for line in lines_batch]\n",
    "    to_upsert = zip(ids_batch, embeds, meta)\n",
    "    \n",
    "    # upsert to Pinecone\n",
    "    index.upsert(vectors=list(to_upsert))"
   ]
  },
  {
   "cell_type": "markdown",
   "id": "cf918e30",
   "metadata": {},
   "source": [
    "## Query with Natural Language"
   ]
  },
  {
   "cell_type": "code",
   "execution_count": 59,
   "id": "c5cf4d24",
   "metadata": {},
   "outputs": [],
   "source": [
    "with open('../prompts/rules.txt') as r:\n",
    "    rules = r.read()"
   ]
  },
  {
   "cell_type": "code",
   "execution_count": 61,
   "id": "8daa097c",
   "metadata": {},
   "outputs": [],
   "source": [
    "def get_answer(question):\n",
    "\n",
    "    xq = openai.Embedding.create(model=EMBEDDING_MODEL, input=question)['data'][0]['embedding']\n",
    "    answers = index.query([xq], top_k = 6, include_metadata=True)\n",
    "    \n",
    "    plausible = ''\n",
    "    i = 0\n",
    "    source_list = []\n",
    "    for match in answers['matches']:\n",
    "        if match['score'] >= 0.75:\n",
    "            plausible += str(i) + '. ' + match['metadata']['text'] + '\\n\\n'\n",
    "            i += 1\n",
    "            source_list.append(source[match['metadata']['text']])\n",
    "            \n",
    "    source_list = set(source_list)\n",
    "            \n",
    "    header = 'You are given the following question: ' + question + '\\n'\n",
    "    body = 'A crash-course on development gives the following possible answers: ' + plausible + '\\n'\n",
    "    footer = 'Combine the plausible answers to be a coherent and grammatically-correct answer.'\n",
    "    \n",
    "    prompt = header + body + footer\n",
    "    \n",
    "    chatgpt = openai.ChatCompletion.create(\n",
    "        model = COMPLETION_MODEL,\n",
    "        messages = [\n",
    "            {'role':'system', 'content': rules},\n",
    "            {'role':'user', 'content':prompt}\n",
    "        ]\n",
    "    )\n",
    "    \n",
    "    cleaned = chatgpt['choices'][0]['message']['content'].strip()\n",
    "    \n",
    "    print('The model finds that: \\n' + cleaned)\n",
    "    print('---------------------- \\n\\n')\n",
    "    print('SOURCES:')\n",
    "    [print(elem) for elem in source_list]"
   ]
  },
  {
   "cell_type": "code",
   "execution_count": 62,
   "id": "3d18b89e",
   "metadata": {
    "scrolled": true
   },
   "outputs": [
    {
     "name": "stdout",
     "output_type": "stream",
     "text": [
      "What is React?\n"
     ]
    }
   ],
   "source": [
    "question = input()"
   ]
  },
  {
   "cell_type": "code",
   "execution_count": 63,
   "id": "d52230c6",
   "metadata": {
    "scrolled": false
   },
   "outputs": [
    {
     "name": "stdout",
     "output_type": "stream",
     "text": [
      "The model finds that: \n",
      "React is a JavaScript library that is widely used for building user interfaces. It was created and is maintained by Facebook and is popular for creating reusable UI components for web applications. Despite not being the most performant, it is relatively older, more mature, has a large and robust community, and is the most used JS library/framework. It is based on the SPA (single page application) model, where the webpage starts with a blank HTML template and relies entirely on JavaScript to manage the application's state and create/manage all necessary HTML elements. As a result, React uses JSX, a sort-of JavaScript version of HTML, inside JavaScript files to dictate the webpage's structure. React has a \"virtual DOM\" in the background that keeps track of how the page should look, changing the actual page to apply changes when necessary.\n",
      "---------------------- \n",
      "\n",
      "\n",
      "SOURCES:\n",
      "HW Adding ESLint f43800236d794c108cbe8507b3b482bd.html\n",
      "Connecting to React a78ea8448d6a4a1f948df35ae18c16da.html\n",
      "UI Frameworks (& Libraries) 3aaf9b90aa4c4502976d7301e62aa00c.html\n",
      "Project Start To Finish (wip) f4d0472d5bd141b6b2e6c90b55a2daae.html\n",
      "Component Lifecycle 4c8b891e3261445ab188133cfb30953e.html\n"
     ]
    }
   ],
   "source": [
    "get_answer(question)"
   ]
  },
  {
   "cell_type": "code",
   "execution_count": null,
   "id": "7a4136a6",
   "metadata": {},
   "outputs": [],
   "source": []
  }
 ],
 "metadata": {
  "kernelspec": {
   "display_name": "Python 3 (ipykernel)",
   "language": "python",
   "name": "python3"
  },
  "language_info": {
   "codemirror_mode": {
    "name": "ipython",
    "version": 3
   },
   "file_extension": ".py",
   "mimetype": "text/x-python",
   "name": "python",
   "nbconvert_exporter": "python",
   "pygments_lexer": "ipython3",
   "version": "3.10.0"
  }
 },
 "nbformat": 4,
 "nbformat_minor": 5
}
