{
 "cells": [
  {
   "cell_type": "markdown",
   "id": "12fcee0f",
   "metadata": {},
   "source": [
    "## Set-Up"
   ]
  },
  {
   "cell_type": "code",
   "execution_count": 1,
   "id": "e9fe6f78",
   "metadata": {},
   "outputs": [
    {
     "name": "stderr",
     "output_type": "stream",
     "text": [
      "/Library/Frameworks/Python.framework/Versions/3.10/lib/python3.10/site-packages/pinecone/index.py:4: TqdmExperimentalWarning: Using `tqdm.autonotebook.tqdm` in notebook mode. Use `tqdm.tqdm` instead to force console mode (e.g. in jupyter console)\n",
      "  from tqdm.autonotebook import tqdm\n"
     ]
    }
   ],
   "source": [
    "import os\n",
    "import pinecone\n",
    "import pandas as pd\n",
    "import openai\n",
    "\n",
    "from bs4 import BeautifulSoup\n",
    "from tqdm.auto import tqdm\n",
    "from dotenv import find_dotenv, load_dotenv"
   ]
  },
  {
   "cell_type": "code",
   "execution_count": 2,
   "id": "d91f60d0",
   "metadata": {},
   "outputs": [],
   "source": [
    "EMBEDDING_MODEL = 'text-embedding-ada-002'\n",
    "COMPLETION_MODEL = 'gpt-3.5-turbo'"
   ]
  },
  {
   "cell_type": "markdown",
   "id": "990922cd",
   "metadata": {},
   "source": [
    "## Source the Data "
   ]
  },
  {
   "cell_type": "code",
   "execution_count": 7,
   "id": "8e560d05",
   "metadata": {
    "scrolled": true
   },
   "outputs": [],
   "source": [
    "def load_data(fp):\n",
    "    \n",
    "    files = os.listdir(fp)\n",
    "    pages = [(fp + '/'+ file) for file in files if '.html' in file]\n",
    "    return pages\n",
    "\n",
    "backend_path = 'data/backend_html'\n",
    "frontend_path = 'data/frontend_html'\n",
    "\n",
    "all_pages = load_data(backend_path) + load_data(frontend_path)"
   ]
  },
  {
   "cell_type": "markdown",
   "id": "63c46da4",
   "metadata": {},
   "source": [
    "## Scrape Information "
   ]
  },
  {
   "cell_type": "code",
   "execution_count": 8,
   "id": "9ace6807",
   "metadata": {},
   "outputs": [],
   "source": [
    "text = []\n",
    "source = {}\n",
    "\n",
    "for page in all_pages:\n",
    "    with open(page) as s:\n",
    "        soup = BeautifulSoup(s, 'html.parser')\n",
    "        \n",
    "    ps = soup.find_all('p')\n",
    "    for p in ps:\n",
    "        \n",
    "        text.append(p.text)\n",
    "        source[p.text] = page"
   ]
  },
  {
   "cell_type": "markdown",
   "id": "00fd2ddd",
   "metadata": {},
   "source": [
    "## Create Embeddings & Index"
   ]
  },
  {
   "cell_type": "code",
   "execution_count": 6,
   "id": "8087a11e",
   "metadata": {
    "scrolled": false
   },
   "outputs": [],
   "source": [
    "load_dotenv(find_dotenv())\n",
    "\n",
    "openai.api_key = os.environ.get('OPENAI_API_KEY')\n",
    "pinecone.init(api_key = os.environ.get('PINECONE_API_KEY'), environment = os.environ.get('PINECONE_ENV'))\n",
    "\n",
    "index_name = 'quads'\n",
    "if index_name not in pinecone.list_indexes():\n",
    "    pinecone.create_index(index_name, dimension=2000)\n",
    "\n",
    "index = pinecone.Index(index_name)"
   ]
  },
  {
   "cell_type": "code",
   "execution_count": 9,
   "id": "924e752e",
   "metadata": {},
   "outputs": [
    {
     "data": {
      "application/vnd.jupyter.widget-view+json": {
       "model_id": "ae0bda624b56455189fa63de41ae3735",
       "version_major": 2,
       "version_minor": 0
      },
      "text/plain": [
       "  0%|          | 0/38 [00:00<?, ?it/s]"
      ]
     },
     "metadata": {},
     "output_type": "display_data"
    }
   ],
   "source": [
    "count = 0\n",
    "batch_size = 32\n",
    "\n",
    "for i in tqdm(range(0, len(text), batch_size)):\n",
    "    \n",
    "    # set end position of batch\n",
    "    i_end = min(i+batch_size, len(text))\n",
    "    \n",
    "    # get batch of lines and IDs\n",
    "    lines_batch = text[i: i+batch_size]\n",
    "    ids_batch = [str(n) for n in range(i, i_end)]\n",
    "    \n",
    "    # create embeddings\n",
    "    res = openai.Embedding.create(input=lines_batch, engine=EMBEDDING_MODEL)\n",
    "    embeds = [record['embedding'] for record in res['data']]\n",
    "    \n",
    "    # prep metadata and upsert batch\n",
    "    meta = [{'text': line} for line in lines_batch]\n",
    "    to_upsert = zip(ids_batch, embeds, meta)\n",
    "    \n",
    "    # upsert to Pinecone\n",
    "    index.upsert(vectors=list(to_upsert))"
   ]
  },
  {
   "cell_type": "markdown",
   "id": "cf918e30",
   "metadata": {},
   "source": [
    "## Query with Natural Language"
   ]
  },
  {
   "cell_type": "code",
   "execution_count": 10,
   "id": "c5cf4d24",
   "metadata": {},
   "outputs": [],
   "source": [
    "with open('prompts/rules.txt') as r:\n",
    "    rules = r.read()"
   ]
  },
  {
   "cell_type": "code",
   "execution_count": 15,
   "id": "8daa097c",
   "metadata": {},
   "outputs": [],
   "source": [
    "def get_answer(question):\n",
    "\n",
    "    xq = openai.Embedding.create(model=EMBEDDING_MODEL, input=question)['data'][0]['embedding']\n",
    "    answers = index.query([xq], top_k = 6, include_metadata=True)\n",
    "    \n",
    "    plausible = ''\n",
    "    i = 0\n",
    "    for match in answers['matches']:\n",
    "        if match['score'] >= 0.75:\n",
    "            plausible += str(i) + '. ' + match['metadata']['text'] + '\\n\\n'\n",
    "            i += 1\n",
    "            \n",
    "    header = 'You are given the following question: ' + question + '\\n'\n",
    "    body = 'A crash-course on development gives the following possible answers: ' + plausible + '\\n'\n",
    "    footer = 'Combine the plausible answers to be a coherent and grammatically-correct answer.'\n",
    "    \n",
    "    prompt = header + body + footer\n",
    "    \n",
    "    chatgpt = openai.ChatCompletion.create(\n",
    "        model = COMPLETION_MODEL,\n",
    "        messages = [\n",
    "            {'role':'system', 'content': rules},\n",
    "            {'role':'user', 'content':prompt}\n",
    "        ]\n",
    "    )\n",
    "    \n",
    "    cleaned = chatgpt['choices'][0]['message']['content'].strip()\n",
    "    \n",
    "    print('The model finds that: \\n' + cleaned)\n",
    "    print('---------------------- \\n\\n')\n",
    "    print('Some of the relevant sources include: \\n' + plausible)"
   ]
  },
  {
   "cell_type": "code",
   "execution_count": 16,
   "id": "3d18b89e",
   "metadata": {},
   "outputs": [
    {
     "name": "stdout",
     "output_type": "stream",
     "text": [
      "What are some JavaScript best practices?\n"
     ]
    }
   ],
   "source": [
    "question = input()"
   ]
  },
  {
   "cell_type": "code",
   "execution_count": 17,
   "id": "d52230c6",
   "metadata": {},
   "outputs": [
    {
     "name": "stdout",
     "output_type": "stream",
     "text": [
      "The model finds that: \n",
      "Some best practices in JavaScript include staying consistent with your coding style, whether it be naming variables or defining functions. It is also advisable to check for existing libraries before starting work on a complicated feature, but if it is not too difficult to implement yourself, it's usually better to not use a library. Another tip is to use newer code features that are widely supported, even though it may require additional effort to maintain.\n",
      "---------------------- \n",
      "\n",
      "\n",
      "Some of the relevant sources include: \n",
      "0. Below are some general opinions for writing cleaner Javascript. They are not absolute, and you definitely may have some reasons to not follow some if not all of them. Otherwise, the only thing more perfect than perfect is consistency.\n",
      "\n",
      "1. Javascript tends to have multiple ways of doing things. Defining functions, variables, and more. Usually there are good reasons to pick one over another, but the main thing to pay attention to is to stay consistent throughout—whether that is naming variables, defining functions, making API calls, or more. \n",
      "\n",
      "2. Writing in JavaScript? You can read about JavaScript linters here:\n",
      "\n",
      "3. Read about the best ways to get your code readable, clean, and shareable. \n",
      "\n",
      "4. Javascript is known notoriously for its numerous libraries. Before trying to do something complicated, it might be good to see if there's already any nice libraries that can do it for you. If it's not too painful to implement yourself, however, it's usually better to not use a library. \n",
      "\n",
      "5. The most straightforward solution is to use older code features that are more widely supported. This means declaring functions using function instead of () => {} in JS. This means adding prefixes to certain CSS properties. However, this is very unideal as you would be writing old code that is likely to be harder to read, maintain, etc. A helpful tool that you can use to check whether a feature is widely supported is caniuse.com. \n",
      "\n",
      "\n"
     ]
    }
   ],
   "source": [
    "get_answer(question)"
   ]
  },
  {
   "cell_type": "code",
   "execution_count": null,
   "id": "2b7312ec",
   "metadata": {},
   "outputs": [],
   "source": []
  }
 ],
 "metadata": {
  "kernelspec": {
   "display_name": "Python 3 (ipykernel)",
   "language": "python",
   "name": "python3"
  },
  "language_info": {
   "codemirror_mode": {
    "name": "ipython",
    "version": 3
   },
   "file_extension": ".py",
   "mimetype": "text/x-python",
   "name": "python",
   "nbconvert_exporter": "python",
   "pygments_lexer": "ipython3",
   "version": "3.10.0"
  }
 },
 "nbformat": 4,
 "nbformat_minor": 5
}
